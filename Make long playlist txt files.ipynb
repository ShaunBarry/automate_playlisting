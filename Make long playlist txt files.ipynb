{
 "cells": [
  {
   "cell_type": "code",
   "execution_count": 2,
   "metadata": {},
   "outputs": [],
   "source": [
    "import numpy as np\n",
    "import glob"
   ]
  },
  {
   "cell_type": "code",
   "execution_count": 4,
   "metadata": {},
   "outputs": [],
   "source": [
    "with open('all_urls_y2k+.txt', 'r+') as f:\n",
    "    urls = np.asarray(f.read().split('\\n'))"
   ]
  },
  {
   "cell_type": "code",
   "execution_count": 5,
   "metadata": {},
   "outputs": [
    {
     "data": {
      "text/plain": [
       "array(['https://open.spotify.com/track/3BsaRV5QIulYz2lV9WWa8T',\n",
       "       'https://open.spotify.com/track/7oMsHuN8P6HFDgMTvWi557',\n",
       "       'https://open.spotify.com/track/7nyLB7rEsdfFwUpU72aUH8', ...,\n",
       "       'https://open.spotify.com/track/5f9JYuHSIHjp6rggue13RS',\n",
       "       'https://open.spotify.com/track/6A10Rn20ulDup3uNuOohUF',\n",
       "       'https://open.spotify.com/track/4y1GxT1XnufGddKkrFkbtC'],\n",
       "      dtype='<U53')"
      ]
     },
     "execution_count": 5,
     "metadata": {},
     "output_type": "execute_result"
    }
   ],
   "source": [
    "urls"
   ]
  },
  {
   "cell_type": "code",
   "execution_count": 6,
   "metadata": {},
   "outputs": [
    {
     "name": "stdout",
     "output_type": "stream",
     "text": [
      "CombinedChartsUnique_AllBillboard.csv  best_searches_check2-6421.csv\r\n",
      "Make Txt files.ipynb                   best_searches_check3-0.csv\r\n",
      "Make long playlist txt files.ipynb     best_searches_check3-7995.csv\r\n",
      "Polished Playlist Generation.ipynb     no_need_to_check-38301.csv\r\n",
      "README.md                              nocheck.csv\r\n",
      "all_urls_y2k+.txt                      \u001b[34mtxt_files_y2k+\u001b[m\u001b[m/\r\n",
      "best_searches_check1-4732.csv          urls.npy\r\n"
     ]
    }
   ],
   "source": [
    "ls"
   ]
  },
  {
   "cell_type": "code",
   "execution_count": 9,
   "metadata": {},
   "outputs": [],
   "source": [
    "dir_name = 'txt_files_y2k+'\n",
    "t = 999\n",
    "for i, iend in [[2100, 3100], [3100, 4100], [4100, 5100]]:\n",
    "    fn = '{}/no_need_to_check_playlist_{:03}_{}-{}.txt'.format(dir_name, t, i, iend)\n",
    "    with open(fn, 'w+') as f:\n",
    "        f.write('\\n'.join(urls[i:iend]))"
   ]
  },
  {
   "cell_type": "code",
   "execution_count": null,
   "metadata": {},
   "outputs": [],
   "source": []
  }
 ],
 "metadata": {
  "kernelspec": {
   "display_name": "Python 3",
   "language": "python",
   "name": "python3"
  },
  "language_info": {
   "codemirror_mode": {
    "name": "ipython",
    "version": 3
   },
   "file_extension": ".py",
   "mimetype": "text/x-python",
   "name": "python",
   "nbconvert_exporter": "python",
   "pygments_lexer": "ipython3",
   "version": "3.7.6"
  }
 },
 "nbformat": 4,
 "nbformat_minor": 4
}
