{
 "cells": [
  {
   "cell_type": "code",
   "execution_count": 1,
   "metadata": {},
   "outputs": [],
   "source": [
    "import pandas as pd\n",
    "import numpy as np"
   ]
  },
  {
   "cell_type": "code",
   "execution_count": 9,
   "metadata": {},
   "outputs": [],
   "source": [
    "df = pd.read_csv('./no_need_to_check-38301.csv')\n",
    "df = df[df.columns[1:]]\n",
    "urls = df['Predicted URL'].values"
   ]
  },
  {
   "cell_type": "code",
   "execution_count": 12,
   "metadata": {},
   "outputs": [
    {
     "data": {
      "text/plain": [
       "(array(['https://open.spotify.com/track/7oSq5fbsFkTS9zeJQwMihf',\n",
       "        'https://open.spotify.com/track/1vY823c1DZqSu9k7W2phSh',\n",
       "        'https://open.spotify.com/track/1IyktkUQ3ktjlc6eDXG967', ...,\n",
       "        'https://open.spotify.com/track/3qC08srhXBJ6DEQ7CwPMB0',\n",
       "        'https://open.spotify.com/track/1T1nYfU115UL2LhwTMyWr6',\n",
       "        'https://open.spotify.com/track/5HkvsZyaMPwhq38v0o8kAf'],\n",
       "       dtype=object), 38301)"
      ]
     },
     "execution_count": 12,
     "metadata": {},
     "output_type": "execute_result"
    }
   ],
   "source": [
    "urls, urls.shape[0]"
   ]
  },
  {
   "cell_type": "code",
   "execution_count": 15,
   "metadata": {},
   "outputs": [
    {
     "name": "stdout",
     "output_type": "stream",
     "text": [
      "0 0 1000 1000\n",
      "1 1000 2000 1000\n",
      "2 2000 3000 1000\n",
      "3 3000 4000 1000\n",
      "4 4000 5000 1000\n",
      "5 5000 6000 1000\n",
      "6 6000 7000 1000\n",
      "7 7000 8000 1000\n",
      "8 8000 9000 1000\n",
      "9 9000 10000 1000\n",
      "10 10000 11000 1000\n",
      "11 11000 12000 1000\n",
      "12 12000 13000 1000\n",
      "13 13000 14000 1000\n",
      "14 14000 15000 1000\n",
      "15 15000 16000 1000\n",
      "16 16000 17000 1000\n",
      "17 17000 18000 1000\n",
      "18 18000 19000 1000\n",
      "19 19000 20000 1000\n",
      "20 20000 21000 1000\n",
      "21 21000 22000 1000\n",
      "22 22000 23000 1000\n",
      "23 23000 24000 1000\n",
      "24 24000 25000 1000\n",
      "25 25000 26000 1000\n",
      "26 26000 27000 1000\n",
      "27 27000 28000 1000\n",
      "28 28000 29000 1000\n",
      "29 29000 30000 1000\n",
      "30 30000 31000 1000\n",
      "31 31000 32000 1000\n",
      "32 32000 33000 1000\n",
      "33 33000 34000 1000\n",
      "34 34000 35000 1000\n",
      "35 35000 36000 1000\n",
      "36 36000 37000 1000\n",
      "37 37000 38000 1000\n",
      "38 38000 39000 301\n"
     ]
    }
   ],
   "source": [
    "songs_per_playlist = 1000\n",
    "for t, i in enumerate(range(0, urls.shape[0], songs_per_playlist)):\n",
    "    #'\\n'.join(urls[])\n",
    "    print(t, i, i+songs_per_playlist, len(urls[i:(i+songs_per_playlist)]))\n",
    "    fn = './no_need_to_check_playlist_{}_{}-{}.txt'.format(t, i, i+len(urls[i:(i+songs_per_playlist)]))\n",
    "    with open(fn, 'w+') as f:\n",
    "        f.write('\\n'.join(urls[i:(i+songs_per_playlist)]))"
   ]
  },
  {
   "cell_type": "code",
   "execution_count": null,
   "metadata": {},
   "outputs": [],
   "source": []
  }
 ],
 "metadata": {
  "kernelspec": {
   "display_name": "Python 3",
   "language": "python",
   "name": "python3"
  },
  "language_info": {
   "codemirror_mode": {
    "name": "ipython",
    "version": 3
   },
   "file_extension": ".py",
   "mimetype": "text/x-python",
   "name": "python",
   "nbconvert_exporter": "python",
   "pygments_lexer": "ipython3",
   "version": "3.7.0"
  }
 },
 "nbformat": 4,
 "nbformat_minor": 2
}
