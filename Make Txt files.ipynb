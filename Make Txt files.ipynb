{
 "cells": [
  {
   "cell_type": "code",
   "execution_count": 1,
   "metadata": {},
   "outputs": [],
   "source": [
    "import pandas as pd\n",
    "import numpy as np"
   ]
  },
  {
   "cell_type": "code",
   "execution_count": 17,
   "metadata": {},
   "outputs": [],
   "source": [
    "df = pd.read_csv('./no_need_to_check-38301.csv')\n",
    "df = df[df.columns[1:]]\n",
    "urls = df['Predicted URL'].values"
   ]
  },
  {
   "cell_type": "code",
   "execution_count": 3,
   "metadata": {},
   "outputs": [
    {
     "data": {
      "text/plain": [
       "13809"
      ]
     },
     "execution_count": 3,
     "metadata": {},
     "output_type": "execute_result"
    }
   ],
   "source": [
    "(df['Debut Year'] >= 2000).sum()"
   ]
  },
  {
   "cell_type": "code",
   "execution_count": 3,
   "metadata": {},
   "outputs": [
    {
     "data": {
      "text/plain": [
       "(array(['https://open.spotify.com/track/7oSq5fbsFkTS9zeJQwMihf',\n",
       "        'https://open.spotify.com/track/1vY823c1DZqSu9k7W2phSh',\n",
       "        'https://open.spotify.com/track/1IyktkUQ3ktjlc6eDXG967', ...,\n",
       "        'https://open.spotify.com/track/3qC08srhXBJ6DEQ7CwPMB0',\n",
       "        'https://open.spotify.com/track/1T1nYfU115UL2LhwTMyWr6',\n",
       "        'https://open.spotify.com/track/5HkvsZyaMPwhq38v0o8kAf'],\n",
       "       dtype=object), 38301)"
      ]
     },
     "execution_count": 3,
     "metadata": {},
     "output_type": "execute_result"
    }
   ],
   "source": [
    "urls, urls.shape[0]"
   ]
  },
  {
   "cell_type": "code",
   "execution_count": 28,
   "metadata": {
    "scrolled": true
   },
   "outputs": [
    {
     "name": "stdout",
     "output_type": "stream",
     "text": [
      "{1958, 1959, 1960, 1961, 1962, 1963, 1964, 1965, 1966, 1967, 1968, 1969, 1970, 1971, 1972, 1973, 1974, 1975, 1976, 1977, 1978, 1979, 1980, 1981, 1982, 1983, 1984, 1985, 1986, 1987, 1988, 1989, 1990, 1991, 1992, 1993, 1994, 1995, 1996, 1997, 1998, 1999, 2000, 2001, 2002, 2003, 2004, 2005, 2006, 2007, 2008, 2009, 2010, 2011, 2012, 2013, 2014, 2015, 2016, 2017, 2018, 2019, 2020}\n"
     ]
    }
   ],
   "source": [
    "years = []\n",
    "new_date_strings = []\n",
    "for dt in df['Debut Date']:\n",
    "    year = int(dt.split('/')[-1])\n",
    "    if year > 20:\n",
    "        year += 1900\n",
    "    else:\n",
    "        year += 2000\n",
    "    years += [year]\n",
    "    new_dt_str = '/'.join(dt.split('/')[:-1] + [str(year)])\n",
    "    new_date_strings += [new_dt_str]\n",
    "print(set(years))"
   ]
  },
  {
   "cell_type": "code",
   "execution_count": 35,
   "metadata": {},
   "outputs": [
    {
     "data": {
      "text/html": [
       "<div>\n",
       "<style scoped>\n",
       "    .dataframe tbody tr th:only-of-type {\n",
       "        vertical-align: middle;\n",
       "    }\n",
       "\n",
       "    .dataframe tbody tr th {\n",
       "        vertical-align: top;\n",
       "    }\n",
       "\n",
       "    .dataframe thead th {\n",
       "        text-align: right;\n",
       "    }\n",
       "</style>\n",
       "<table border=\"1\" class=\"dataframe\">\n",
       "  <thead>\n",
       "    <tr style=\"text-align: right;\">\n",
       "      <th></th>\n",
       "      <th>Spotify Artist Name</th>\n",
       "      <th>Spotify Song Name</th>\n",
       "      <th>Predicted URL</th>\n",
       "    </tr>\n",
       "  </thead>\n",
       "  <tbody>\n",
       "    <tr>\n",
       "      <th>27134</th>\n",
       "      <td>Backstreet Boys</td>\n",
       "      <td>Show Me the Meaning of Being Lonely</td>\n",
       "      <td>https://open.spotify.com/track/3BsaRV5QIulYz2l...</td>\n",
       "    </tr>\n",
       "    <tr>\n",
       "      <th>27170</th>\n",
       "      <td>Jennifer Day</td>\n",
       "      <td>The Fun of Your Love</td>\n",
       "      <td>https://open.spotify.com/track/7oMsHuN8P6HFDgM...</td>\n",
       "    </tr>\n",
       "    <tr>\n",
       "      <th>25915</th>\n",
       "      <td>Skip Ewing</td>\n",
       "      <td>Christmas Carol</td>\n",
       "      <td>https://open.spotify.com/track/7nyLB7rEsdfFwUp...</td>\n",
       "    </tr>\n",
       "    <tr>\n",
       "      <th>26092</th>\n",
       "      <td>Los Tucanes De Tijuana</td>\n",
       "      <td>Las Heladas</td>\n",
       "      <td>https://open.spotify.com/track/50sTMaXwK2k8ZTg...</td>\n",
       "    </tr>\n",
       "    <tr>\n",
       "      <th>26085</th>\n",
       "      <td>Los Mismos</td>\n",
       "      <td>Basura</td>\n",
       "      <td>https://open.spotify.com/track/5hpTjWgaNbarvrl...</td>\n",
       "    </tr>\n",
       "    <tr>\n",
       "      <th>...</th>\n",
       "      <td>...</td>\n",
       "      <td>...</td>\n",
       "      <td>...</td>\n",
       "    </tr>\n",
       "    <tr>\n",
       "      <th>22829</th>\n",
       "      <td>Dua Lipa</td>\n",
       "      <td>Physical</td>\n",
       "      <td>https://open.spotify.com/track/5px6upUHM3fhOP6...</td>\n",
       "    </tr>\n",
       "    <tr>\n",
       "      <th>22825</th>\n",
       "      <td>Tycho</td>\n",
       "      <td>Outer Sunset</td>\n",
       "      <td>https://open.spotify.com/track/4Zwo8D1koSzLJCY...</td>\n",
       "    </tr>\n",
       "    <tr>\n",
       "      <th>22807</th>\n",
       "      <td>Lil Wayne</td>\n",
       "      <td>Mahogany</td>\n",
       "      <td>https://open.spotify.com/track/5f9JYuHSIHjp6rg...</td>\n",
       "    </tr>\n",
       "    <tr>\n",
       "      <th>22841</th>\n",
       "      <td>Caribou</td>\n",
       "      <td>Never Come Back</td>\n",
       "      <td>https://open.spotify.com/track/6A10Rn20ulDup3u...</td>\n",
       "    </tr>\n",
       "    <tr>\n",
       "      <th>22746</th>\n",
       "      <td>Lil Wayne</td>\n",
       "      <td>Funeral</td>\n",
       "      <td>https://open.spotify.com/track/4y1GxT1XnufGddK...</td>\n",
       "    </tr>\n",
       "  </tbody>\n",
       "</table>\n",
       "<p>13809 rows × 3 columns</p>\n",
       "</div>"
      ],
      "text/plain": [
       "          Spotify Artist Name                    Spotify Song Name  \\\n",
       "27134         Backstreet Boys  Show Me the Meaning of Being Lonely   \n",
       "27170            Jennifer Day                 The Fun of Your Love   \n",
       "25915              Skip Ewing                      Christmas Carol   \n",
       "26092  Los Tucanes De Tijuana                          Las Heladas   \n",
       "26085              Los Mismos                               Basura   \n",
       "...                       ...                                  ...   \n",
       "22829                Dua Lipa                             Physical   \n",
       "22825                   Tycho                         Outer Sunset   \n",
       "22807               Lil Wayne                             Mahogany   \n",
       "22841                 Caribou                      Never Come Back   \n",
       "22746               Lil Wayne                              Funeral   \n",
       "\n",
       "                                           Predicted URL  \n",
       "27134  https://open.spotify.com/track/3BsaRV5QIulYz2l...  \n",
       "27170  https://open.spotify.com/track/7oMsHuN8P6HFDgM...  \n",
       "25915  https://open.spotify.com/track/7nyLB7rEsdfFwUp...  \n",
       "26092  https://open.spotify.com/track/50sTMaXwK2k8ZTg...  \n",
       "26085  https://open.spotify.com/track/5hpTjWgaNbarvrl...  \n",
       "...                                                  ...  \n",
       "22829  https://open.spotify.com/track/5px6upUHM3fhOP6...  \n",
       "22825  https://open.spotify.com/track/4Zwo8D1koSzLJCY...  \n",
       "22807  https://open.spotify.com/track/5f9JYuHSIHjp6rg...  \n",
       "22841  https://open.spotify.com/track/6A10Rn20ulDup3u...  \n",
       "22746  https://open.spotify.com/track/4y1GxT1XnufGddK...  \n",
       "\n",
       "[13809 rows x 3 columns]"
      ]
     },
     "execution_count": 35,
     "metadata": {},
     "output_type": "execute_result"
    }
   ],
   "source": [
    "df['Debut Date'] = pd.to_datetime(new_date_strings)\n",
    "df_new = df[df['Debut Date'] > '1999-12-31']\n",
    "df_new = df_new.sort_values('Debut Date')\n",
    "urls = df_new['Predicted URL'].values\n",
    "df_new[['Spotify Artist Name', 'Spotify Song Name', 'Predicted URL']]"
   ]
  },
  {
   "cell_type": "code",
   "execution_count": 41,
   "metadata": {},
   "outputs": [],
   "source": [
    "np.save('urls.npy', urls)"
   ]
  },
  {
   "cell_type": "code",
   "execution_count": 43,
   "metadata": {},
   "outputs": [],
   "source": [
    "with open('all_urls_y2k+.txt', 'w+') as f:\n",
    "    f.write('\\n'.join(urls.tolist()))"
   ]
  },
  {
   "cell_type": "code",
   "execution_count": 44,
   "metadata": {},
   "outputs": [
    {
     "data": {
      "text/plain": [
       "array(['https://open.spotify.com/track/3BsaRV5QIulYz2lV9WWa8T',\n",
       "       'https://open.spotify.com/track/7oMsHuN8P6HFDgMTvWi557',\n",
       "       'https://open.spotify.com/track/7nyLB7rEsdfFwUpU72aUH8', ...,\n",
       "       'https://open.spotify.com/track/5f9JYuHSIHjp6rggue13RS',\n",
       "       'https://open.spotify.com/track/6A10Rn20ulDup3uNuOohUF',\n",
       "       'https://open.spotify.com/track/4y1GxT1XnufGddKkrFkbtC'],\n",
       "      dtype=object)"
      ]
     },
     "execution_count": 44,
     "metadata": {},
     "output_type": "execute_result"
    }
   ],
   "source": [
    "urls"
   ]
  },
  {
   "cell_type": "code",
   "execution_count": 37,
   "metadata": {},
   "outputs": [],
   "source": [
    "import os\n",
    "import shutil"
   ]
  },
  {
   "cell_type": "code",
   "execution_count": 38,
   "metadata": {
    "scrolled": false
   },
   "outputs": [],
   "source": [
    "songs_per_playlist = 100\n",
    "\n",
    "if not os.path.exists('txt_files_y2k+'):\n",
    "    os.mkdir('txt_files_y2k+')\n",
    "\n",
    "dir_name = 'txt_files_y2k+/100_per_playlist_{}'.format(songs_per_playlist)\n",
    "if not os.path.exists(dir_name):\n",
    "    os.mkdir(dir_name)\n",
    "else:\n",
    "    shutil.rmtree(dir_name)\n",
    "    os.mkdir(dir_name)\n",
    "    \n",
    "for t, i in enumerate(range(0, urls.shape[0], songs_per_playlist)):\n",
    "    fn = '{}/no_need_to_check_playlist_{:03}_{}-{}.txt'.format(dir_name, t, i, i+len(urls[i:(i+songs_per_playlist)]))\n",
    "    with open(fn, 'w+') as f:\n",
    "        f.write('\\n'.join(urls[i:(i+songs_per_playlist)]))"
   ]
  },
  {
   "cell_type": "code",
   "execution_count": 39,
   "metadata": {},
   "outputs": [
    {
     "data": {
      "text/plain": [
       "13809"
      ]
     },
     "execution_count": 39,
     "metadata": {},
     "output_type": "execute_result"
    }
   ],
   "source": [
    "len(urls)"
   ]
  }
 ],
 "metadata": {
  "kernelspec": {
   "display_name": "Python 3",
   "language": "python",
   "name": "python3"
  },
  "language_info": {
   "codemirror_mode": {
    "name": "ipython",
    "version": 3
   },
   "file_extension": ".py",
   "mimetype": "text/x-python",
   "name": "python",
   "nbconvert_exporter": "python",
   "pygments_lexer": "ipython3",
   "version": "3.7.6"
  }
 },
 "nbformat": 4,
 "nbformat_minor": 2
}
