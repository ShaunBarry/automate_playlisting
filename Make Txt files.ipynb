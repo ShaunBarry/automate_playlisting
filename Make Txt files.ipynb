{
 "cells": [
  {
   "cell_type": "code",
   "execution_count": 20,
   "metadata": {},
   "outputs": [],
   "source": [
    "import pandas as pd\n",
    "import numpy as np"
   ]
  },
  {
   "cell_type": "code",
   "execution_count": 21,
   "metadata": {},
   "outputs": [],
   "source": [
    "df = pd.read_csv('./no_need_to_check-38301.csv')\n",
    "df = df[df.columns[1:]]\n",
    "urls = df['Predicted URL'].values"
   ]
  },
  {
   "cell_type": "code",
   "execution_count": 25,
   "metadata": {},
   "outputs": [
    {
     "data": {
      "text/plain": [
       "13809"
      ]
     },
     "execution_count": 25,
     "metadata": {},
     "output_type": "execute_result"
    }
   ],
   "source": [
    "(df['Debut Year'] >= 2000).sum()"
   ]
  },
  {
   "cell_type": "code",
   "execution_count": 3,
   "metadata": {},
   "outputs": [
    {
     "data": {
      "text/plain": [
       "(array(['https://open.spotify.com/track/7oSq5fbsFkTS9zeJQwMihf',\n",
       "        'https://open.spotify.com/track/1vY823c1DZqSu9k7W2phSh',\n",
       "        'https://open.spotify.com/track/1IyktkUQ3ktjlc6eDXG967', ...,\n",
       "        'https://open.spotify.com/track/3qC08srhXBJ6DEQ7CwPMB0',\n",
       "        'https://open.spotify.com/track/1T1nYfU115UL2LhwTMyWr6',\n",
       "        'https://open.spotify.com/track/5HkvsZyaMPwhq38v0o8kAf'],\n",
       "       dtype=object), 38301)"
      ]
     },
     "execution_count": 3,
     "metadata": {},
     "output_type": "execute_result"
    }
   ],
   "source": [
    "urls, urls.shape[0]"
   ]
  },
  {
   "cell_type": "code",
   "execution_count": 12,
   "metadata": {},
   "outputs": [],
   "source": [
    "import os\n",
    "import shutil"
   ]
  },
  {
   "cell_type": "code",
   "execution_count": 18,
   "metadata": {
    "scrolled": false
   },
   "outputs": [],
   "source": [
    "songs_per_playlist = 100\n",
    "\n",
    "dir_name = 'txt_files/by_{}'.format(songs_per_playlist)\n",
    "if not os.path.exists(dir_name):\n",
    "    os.mkdir(dir_name)\n",
    "else:\n",
    "    shutil.rmtree(dir_name)\n",
    "    os.mkdir(dir_name)\n",
    "    \n",
    "for t, i in enumerate(range(0, urls.shape[0], songs_per_playlist)):\n",
    "    #'\\n'.join(urls[])\n",
    "    #print(t, i, i+songs_per_playlist, len(urls[i:(i+songs_per_playlist)]))\n",
    "    fn = '{}/no_need_to_check_playlist_{:03}_{}-{}.txt'.format(dir_name, t, i, i+len(urls[i:(i+songs_per_playlist)]))\n",
    "    with open(fn, 'w+') as f:\n",
    "        f.write('\\n'.join(urls[i:(i+songs_per_playlist)]))"
   ]
  },
  {
   "cell_type": "code",
   "execution_count": 17,
   "metadata": {
    "scrolled": true
   },
   "outputs": [
    {
     "data": {
      "text/plain": [
       "array(['https://open.spotify.com/track/2hn1lerQkPC6fOI0QFjr8r',\n",
       "       'https://open.spotify.com/track/4mTGnNYNLqBcvu49kNw72Z',\n",
       "       'https://open.spotify.com/track/0roG3bwwFExQYxsFUlyBVR', ...,\n",
       "       'https://open.spotify.com/track/42bvrAO7GYjNAxNu9npSS9',\n",
       "       'https://open.spotify.com/track/3eoRFS0WMwa06mGOnyAhfk',\n",
       "       'https://open.spotify.com/track/0jXWmuH5zjZyRFv04yjvHy'],\n",
       "      dtype=object)"
      ]
     },
     "execution_count": 17,
     "metadata": {},
     "output_type": "execute_result"
    }
   ],
   "source": [
    "urls[2000:(2000+5000)]"
   ]
  },
  {
   "cell_type": "code",
   "execution_count": 19,
   "metadata": {},
   "outputs": [
    {
     "data": {
      "text/plain": [
       "38301"
      ]
     },
     "execution_count": 19,
     "metadata": {},
     "output_type": "execute_result"
    }
   ],
   "source": [
    "len(urls)"
   ]
  },
  {
   "cell_type": "code",
   "execution_count": 19,
   "metadata": {},
   "outputs": [],
   "source": [
    "fn = './no_need_to_check_playlist_{}_{}-{}.txt'.format(t, 2000, 2000+5000)\n",
    "with open(fn, 'w+') as f:\n",
    "    f.write('\\n'.join(urls[2000:(2000+5000)]))"
   ]
  },
  {
   "cell_type": "code",
   "execution_count": null,
   "metadata": {},
   "outputs": [],
   "source": []
  }
 ],
 "metadata": {
  "kernelspec": {
   "display_name": "Python 3",
   "language": "python",
   "name": "python3"
  },
  "language_info": {
   "codemirror_mode": {
    "name": "ipython",
    "version": 3
   },
   "file_extension": ".py",
   "mimetype": "text/x-python",
   "name": "python",
   "nbconvert_exporter": "python",
   "pygments_lexer": "ipython3",
   "version": "3.7.0"
  }
 },
 "nbformat": 4,
 "nbformat_minor": 2
}
